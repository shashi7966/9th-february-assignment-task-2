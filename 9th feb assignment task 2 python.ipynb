{
 "cells": [
  {
   "cell_type": "code",
   "execution_count": null,
   "id": "e6898422-2513-4995-b572-5a9890b6550c",
   "metadata": {},
   "outputs": [],
   "source": [
    "python assignment 09th february Task 2"
   ]
  },
  {
   "cell_type": "code",
   "execution_count": null,
   "id": "68adde6c-ce2c-47b2-a21a-11628f5eebd3",
   "metadata": {},
   "outputs": [],
   "source": [
    "1. While purchasing certain items, a discount of 10% is offered if the quantity purchased is \n",
    "more than 10. If quantity and price per item are input through the keyboard, write a \n",
    "program to calculate the total expenses."
   ]
  },
  {
   "cell_type": "code",
   "execution_count": 1,
   "id": "335a1cf0-2489-417e-9a82-35b40e06ff95",
   "metadata": {},
   "outputs": [
    {
     "name": "stdin",
     "output_type": "stream",
     "text": [
      "Enter the quantity purchased:  100\n",
      "Enter the price per item:  80\n"
     ]
    },
    {
     "name": "stdout",
     "output_type": "stream",
     "text": [
      "Total expenses: 7200.00\n"
     ]
    }
   ],
   "source": [
    "# Input quantity and price per item from the user\n",
    "quantity = int(input(\"Enter the quantity purchased: \"))\n",
    "price_per_item = float(input(\"Enter the price per item: \"))\n",
    "\n",
    "# Calculate total price without discount\n",
    "total_price = quantity * price_per_item\n",
    "\n",
    "# Apply 10% discount if quantity > 10\n",
    "if quantity > 10:\n",
    "    discount = total_price * 0.10\n",
    "else:\n",
    "    discount = 0\n",
    "\n",
    "# Calculate final total after discount\n",
    "total_expenses = total_price - discount\n",
    "\n",
    "# Display the result\n",
    "print(f\"Total expenses: {total_expenses:.2f}\")\n"
   ]
  },
  {
   "cell_type": "code",
   "execution_count": 3,
   "id": "80871688-9e42-4524-92b2-267065d557b4",
   "metadata": {},
   "outputs": [
    {
     "name": "stdin",
     "output_type": "stream",
     "text": [
      "Enter the current year:  2025\n",
      "Enter the year employee joined:  2014\n"
     ]
    },
    {
     "name": "stdout",
     "output_type": "stream",
     "text": [
      "Employee is eligible for a bonus of Rs. 2500.\n"
     ]
    }
   ],
   "source": [
    "# Input current year and year of joining\n",
    "current_year = int(input(\"Enter the current year: \"))\n",
    "joining_year = int(input(\"Enter the year employee joined: \"))\n",
    "\n",
    "# Calculate years of service\n",
    "years_of_service = current_year - joining_year\n",
    "\n",
    "# Check if years of service is greater than 3\n",
    "if years_of_service > 3:\n",
    "    bonus = 2500\n",
    "    print(f\"Employee is eligible for a bonus of Rs. {bonus}.\")\n",
    "else:\n",
    "    # Do nothing if service is not greater than 3\n",
    "    pass\n"
   ]
  },
  {
   "cell_type": "code",
   "execution_count": null,
   "id": "10e61199-f4ce-4d43-a671-761f1a5ecf1d",
   "metadata": {},
   "outputs": [],
   "source": [
    "3. If his basic salary is less than Rs. 1500, then HRA = 10% of basic salary and DA = 90% of \n",
    "basic salary. If his salary is either equal to or above Rs. 1500, then HRA = Rs. 500 and DA = \n",
    "98% of basic salary. If the employee's salary is input through the keyboard write a program \n",
    "to find his gross salary"
   ]
  },
  {
   "cell_type": "code",
   "execution_count": 5,
   "id": "cd214ed6-4c96-46bf-9feb-f66b1c910714",
   "metadata": {},
   "outputs": [
    {
     "name": "stdin",
     "output_type": "stream",
     "text": [
      "Enter the basic salary:  50000\n"
     ]
    },
    {
     "name": "stdout",
     "output_type": "stream",
     "text": [
      "Gross salary is: Rs. 99500.00\n"
     ]
    }
   ],
   "source": [
    "# Input basic salary from the user\n",
    "basic_salary = float(input(\"Enter the basic salary: \"))\n",
    "\n",
    "# Calculate HRA and DA based on the salary\n",
    "if basic_salary < 1500:\n",
    "    hra = 0.10 * basic_salary\n",
    "    da = 0.90 * basic_salary\n",
    "else:\n",
    "    hra = 500\n",
    "    da = 0.98 * basic_salary\n",
    "\n",
    "# Calculate gross salary\n",
    "gross_salary = basic_salary + hra + da\n",
    "\n",
    "# Display the gross salary\n",
    "print(f\"Gross salary is: Rs. {gross_salary:.2f}\")\n"
   ]
  },
  {
   "cell_type": "code",
   "execution_count": null,
   "id": "d90451a5-7000-4d8d-aec6-cc2ee3c0ccf3",
   "metadata": {},
   "outputs": [],
   "source": [
    "4. The marks obtained by a student in 5 different subjects are input through the keyboard. \n",
    "The student gets a division as per the following rules: Write a program to calculate the \n",
    "division obtained by the student. \n",
    "a. Percentage above or equal to 60 - First division \n",
    "b. Percentage between 50 and 59 - Second division \n",
    "c. Percentage between 40 and 49 - Third division \n",
    "d. Percentage less than 40 – Fail "
   ]
  },
  {
   "cell_type": "code",
   "execution_count": 9,
   "id": "43356b28-2afd-46f8-9be4-eb334bb18748",
   "metadata": {},
   "outputs": [
    {
     "name": "stdin",
     "output_type": "stream",
     "text": [
      "Enter marks for subject 1:  95\n",
      "Enter marks for subject 2:  86\n",
      "Enter marks for subject 3:  74\n",
      "Enter marks for subject 4:  65\n",
      "Enter marks for subject 5:  78\n"
     ]
    },
    {
     "name": "stdout",
     "output_type": "stream",
     "text": [
      "Total Marks: 398.0\n",
      "Percentage: 79.60%\n",
      "Division: First division\n"
     ]
    }
   ],
   "source": [
    "# Input marks for 5 subjects\n",
    "marks = []\n",
    "for i in range(1, 6):\n",
    "    subject_mark = float(input(f\"Enter marks for subject {i}: \"))\n",
    "    marks.append(subject_mark)\n",
    "\n",
    "# Calculate total and percentage\n",
    "total_marks = sum(marks)\n",
    "percentage = total_marks / 5\n",
    "\n",
    "# Determine division based on percentage\n",
    "if percentage >= 60:\n",
    "    division = \"First division\"\n",
    "elif 50 <= percentage < 60:\n",
    "    division = \"Second division\"\n",
    "elif 40 <= percentage < 50:\n",
    "    division = \"Third division\"\n",
    "else:\n",
    "    division = \"Fail\"\n",
    "\n",
    "# Display result\n",
    "print(f\"Total Marks: {total_marks}\")\n",
    "print(f\"Percentage: {percentage:.2f}%\")\n",
    "print(f\"Division: {division}\")\n"
   ]
  },
  {
   "cell_type": "code",
   "execution_count": null,
   "id": "700ddc76-0fdb-4746-ab80-e39ff0f713ab",
   "metadata": {},
   "outputs": [],
   "source": [
    "5.A company insures its drivers in the following cases: \n",
    "a. If the driver is married. \n",
    "b. If the driver is unmarried, male & above 30 years of age. \n",
    "c. If the driver is unmarried, female & above 25 years of age. "
   ]
  },
  {
   "cell_type": "code",
   "execution_count": 11,
   "id": "e23bdfa7-0cd5-4f71-8541-f102b1f90042",
   "metadata": {},
   "outputs": [
    {
     "name": "stdin",
     "output_type": "stream",
     "text": [
      "Enter marital status (married/unmarried):  married\n",
      "Enter gender (male/female):  male\n",
      "Enter age:  32\n"
     ]
    },
    {
     "name": "stdout",
     "output_type": "stream",
     "text": [
      "Driver is eligible for insurance.\n"
     ]
    }
   ],
   "source": [
    "##### Input marital status, gender, and age\n",
    "marital_status = input(\"Enter marital status (married/unmarried): \").strip().lower()\n",
    "gender = input(\"Enter gender (male/female): \").strip().lower()\n",
    "age = int(input(\"Enter age: \"))\n",
    "\n",
    "# Determine insurance eligibility\n",
    "if marital_status == \"married\":\n",
    "    eligible = True\n",
    "elif marital_status == \"unmarried\":\n",
    "    if gender == \"male\" and age > 30:\n",
    "        eligible = True\n",
    "    elif gender == \"female\" and age > 25:\n",
    "        eligible = True\n",
    "    else:\n",
    "        eligible = False\n",
    "else:\n",
    "    eligible = False\n",
    "85\n",
    "\n",
    "# Output result\n",
    "if eligible:\n",
    "    print(\"Driver is eligible for insurance.\")\n",
    "else:\n",
    "    print(\"Driver is not eligible for insurance.\")\n"
   ]
  },
  {
   "cell_type": "code",
   "execution_count": null,
   "id": "5462598e-0d70-4d84-81fe-5a93de6eb0cb",
   "metadata": {},
   "outputs": [],
   "source": []
  }
 ],
 "metadata": {
  "kernelspec": {
   "display_name": "Python [conda env:base] *",
   "language": "python",
   "name": "conda-base-py"
  },
  "language_info": {
   "codemirror_mode": {
    "name": "ipython",
    "version": 3
   },
   "file_extension": ".py",
   "mimetype": "text/x-python",
   "name": "python",
   "nbconvert_exporter": "python",
   "pygments_lexer": "ipython3",
   "version": "3.12.7"
  }
 },
 "nbformat": 4,
 "nbformat_minor": 5
}
