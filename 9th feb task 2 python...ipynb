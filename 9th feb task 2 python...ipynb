{
 "cells": [
  {
   "cell_type": "code",
   "execution_count": null,
   "id": "335752dc-ceb9-4db2-aba7-aee02ef8c626",
   "metadata": {},
   "outputs": [],
   "source": [
    "5. A company insures its drivers in the following cases: \n",
    "a. If the driver is married. \n",
    "b. If the driver is unmarried, male & above 30 years of age. \n",
    "c. If the driver is unmarried, female & above 25 years of age."
   ]
  },
  {
   "cell_type": "code",
   "execution_count": 1,
   "id": "4ddf8f80-2bb9-4650-ad73-3ad3e2f00121",
   "metadata": {},
   "outputs": [
    {
     "name": "stdin",
     "output_type": "stream",
     "text": [
      "Enter marital status (married/unmarried):  married\n",
      "Enter gender (male/female):  male\n",
      "Enter age:  32\n"
     ]
    },
    {
     "name": "stdout",
     "output_type": "stream",
     "text": [
      "The driver is eligible for insurance.\n"
     ]
    }
   ],
   "source": [
    "# Input driver details\n",
    "marital_status = input(\"Enter marital status (married/unmarried): \").strip().lower()\n",
    "gender = input(\"Enter gender (male/female): \").strip().lower()\n",
    "age = int(input(\"Enter age: \"))\n",
    "\n",
    "# Check insurance eligibility\n",
    "if marital_status == \"married\":\n",
    "    eligible = True\n",
    "elif marital_status == \"unmarried\":\n",
    "    if gender == \"male\" and age > 30:\n",
    "        eligible = True\n",
    "    elif gender == \"female\" and age > 25:\n",
    "        eligible = True\n",
    "    else:\n",
    "        eligible = False\n",
    "else:\n",
    "    eligible = False\n",
    "\n",
    "# Output result\n",
    "if eligible:\n",
    "    print(\"The driver is eligible for insurance.\")\n",
    "else:\n",
    "    print(\"The driver is not eligible for insurance.\")\n"
   ]
  },
  {
   "cell_type": "code",
   "execution_count": null,
   "id": "f1390fca-4cc6-49f0-80b3-e7b99afb8e7e",
   "metadata": {},
   "outputs": [],
   "source": [
    "6. Write a program to calculate the salary as per the following table: \n",
    "Gender Year of Service Qualifications Salary \n",
    "Male >= 10 Post - Graduate 15000 \n",
    ">= 10 Graduate 10000 \n",
    "< 10 Post - Graduate 10000 \n",
    "< 10 Graduate 7000 \n",
    "Female >= 10 Post - Graduate 12000 \n",
    ">= 10 Graduate 9000 \n",
    "< 10 Post - Graduate 10000 \n",
    "< 10 Graduate 6000"
   ]
  },
  {
   "cell_type": "code",
   "execution_count": 3,
   "id": "28fefeb0-8e8b-4eef-a2d7-c411053e3ad8",
   "metadata": {},
   "outputs": [
    {
     "name": "stdin",
     "output_type": "stream",
     "text": [
      "Enter gender (male/female):  male\n",
      "Enter years of service:  62\n",
      "Enter qualification (graduate/post-graduate):  graduate\n"
     ]
    },
    {
     "name": "stdout",
     "output_type": "stream",
     "text": [
      "The calculated salary is: Rs. 10000\n"
     ]
    }
   ],
   "source": [
    "# Input details from the user\n",
    "gender = input(\"Enter gender (male/female): \").strip().lower()\n",
    "years_of_service = int(input(\"Enter years of service: \"))\n",
    "qualification = input(\"Enter qualification (graduate/post-graduate): \").strip().lower()\n",
    "\n",
    "# Initialize salary\n",
    "salary = 0\n",
    "\n",
    "# Logic for salary calculation\n",
    "if gender == \"male\":\n",
    "    if years_of_service >= 10:\n",
    "        if qualification == \"post-graduate\":\n",
    "            salary = 15000\n",
    "        elif qualification == \"graduate\":\n",
    "            salary = 10000\n",
    "    else:  # years_of_service < 10\n",
    "        if qualification == \"post-graduate\":\n",
    "            salary = 10000\n",
    "        elif qualification == \"graduate\":\n",
    "            salary = 7000\n",
    "\n",
    "elif gender == \"female\":\n",
    "    if years_of_service >= 10:\n",
    "        if qualification == \"post-graduate\":\n",
    "            salary = 12000\n",
    "        elif qualification == \"graduate\":\n",
    "            salary = 9000\n",
    "    else:  # years_of_service < 10\n",
    "        if qualification == \"post-graduate\":\n",
    "            salary = 10000\n",
    "        elif qualification == \"graduate\":\n",
    "            salary = 6000\n",
    "\n",
    "# Output the result\n",
    "if salary > 0:\n",
    "    print(f\"The calculated salary is: Rs. {salary}\")\n",
    "else:\n",
    "    print(\"Invalid input provided.\")\n"
   ]
  },
  {
   "cell_type": "code",
   "execution_count": null,
   "id": "bee58a9b-ee14-48f4-84a1-07f20cb4f32d",
   "metadata": {},
   "outputs": [],
   "source": [
    "7. If cost price and selling price of an item is input through the keyboard, write a program \n",
    "to determine whether the seller has made profit or incurred loss. Also determine how \n",
    "much profit he made or loss he incurred. "
   ]
  },
  {
   "cell_type": "code",
   "execution_count": 1,
   "id": "bbda740a-38a3-4ba1-8e08-7bd0e5e7a707",
   "metadata": {},
   "outputs": [
    {
     "name": "stdin",
     "output_type": "stream",
     "text": [
      "Enter the cost price:  100\n",
      "Enter the selling price:  120\n"
     ]
    },
    {
     "name": "stdout",
     "output_type": "stream",
     "text": [
      "The seller made a profit of Rs. 20.00\n"
     ]
    }
   ],
   "source": [
    "# Input cost price and selling price\n",
    "cost_price = float(input(\"Enter the cost price: \"))\n",
    "selling_price = float(input(\"Enter the selling price: \"))\n",
    "\n",
    "# Determine profit or loss\n",
    "if selling_price > cost_price:\n",
    "    profit = selling_price - cost_price\n",
    "    print(f\"The seller made a profit of Rs. {profit:.2f}\")\n",
    "elif selling_price < cost_price:\n",
    "    loss = cost_price - selling_price\n",
    "    print(f\"The seller incurred a loss of Rs. {loss:.2f}\")\n",
    "else:\n",
    "    print(\"No profit, no loss.\")\n"
   ]
  },
  {
   "cell_type": "code",
   "execution_count": null,
   "id": "ad871dfe-ef9b-45d2-9fe6-aeafe5743291",
   "metadata": {},
   "outputs": [],
   "source": [
    "8. Any integer is input through the keyboard. Write a program to find out whether it is an \n",
    "odd number or even number. (Hint: Use the % (modulus) operator)"
   ]
  },
  {
   "cell_type": "code",
   "execution_count": 3,
   "id": "00ace5aa-7aa4-41c7-a361-4ecfca8784cc",
   "metadata": {},
   "outputs": [
    {
     "name": "stdin",
     "output_type": "stream",
     "text": [
      "Enter an integer:  7\n"
     ]
    },
    {
     "name": "stdout",
     "output_type": "stream",
     "text": [
      "7 is an odd number.\n"
     ]
    }
   ],
   "source": [
    "# Input an integer from the user\n",
    "number = int(input(\"Enter an integer: \"))\n",
    "\n",
    "# Check if the number is even or odd using modulus operator\n",
    "if number % 2 == 0:\n",
    "    print(f\"{number} is an even number.\")\n",
    "else:\n",
    "    print(f\"{number} is an odd number.\")\n"
   ]
  },
  {
   "cell_type": "code",
   "execution_count": null,
   "id": "20e5e9d5-0a44-421d-a828-22c3d77d5f70",
   "metadata": {},
   "outputs": [],
   "source": [
    "9. A five-digit number is entered through the keyboard. Write a program to obtain the \n",
    "reversed number and to determine whether the original and reversed numbers are equal \n",
    "or not. "
   ]
  },
  {
   "cell_type": "code",
   "execution_count": 5,
   "id": "2f7fb1d2-89b7-4648-8c1f-3494c69e6c3d",
   "metadata": {},
   "outputs": [
    {
     "name": "stdin",
     "output_type": "stream",
     "text": [
      "Enter a five-digit number:  12321\n"
     ]
    },
    {
     "name": "stdout",
     "output_type": "stream",
     "text": [
      "Reversed number is: 12321\n",
      "The original and reversed numbers are equal (Palindrome).\n"
     ]
    }
   ],
   "source": [
    "# Input a five-digit number\n",
    "number = input(\"Enter a five-digit number: \")\n",
    "\n",
    "# Check if the input is valid\n",
    "if len(number) == 5 and number.isdigit():\n",
    "    reversed_number = number[::-1]  # Reverse the string\n",
    "    print(f\"Reversed number is: {reversed_number}\")\n",
    "\n",
    "    # Check if original and reversed numbers are equal\n",
    "    if number == reversed_number:\n",
    "        print(\"The original and reversed numbers are equal (Palindrome).\")\n",
    "    else:\n",
    "        print(\"The original and reversed numbers are not equal.\")\n",
    "else:\n",
    "    print(\"Invalid input. Please enter a five-digit number.\")\n"
   ]
  },
  {
   "cell_type": "code",
   "execution_count": null,
   "id": "b27095f2-1003-49f2-a557-d8ac964e175f",
   "metadata": {},
   "outputs": [],
   "source": [
    "10. If the ages of Ram, Shyam and Ajay are input through the keyboard, write a program to \n",
    "determine the youngest of the three. "
   ]
  },
  {
   "cell_type": "code",
   "execution_count": 7,
   "id": "758620a9-ccee-436c-919b-2a18aa41fba9",
   "metadata": {},
   "outputs": [
    {
     "name": "stdin",
     "output_type": "stream",
     "text": [
      "Enter the age of Ram:  21\n",
      "Enter the age of Shyam:  25\n",
      "Enter the age of Ajay:  19\n"
     ]
    },
    {
     "name": "stdout",
     "output_type": "stream",
     "text": [
      "Ajay is the youngest.\n"
     ]
    }
   ],
   "source": [
    "# Input ages\n",
    "ram_age = int(input(\"Enter the age of Ram: \"))\n",
    "shyam_age = int(input(\"Enter the age of Shyam: \"))\n",
    "ajay_age = int(input(\"Enter the age of Ajay: \"))\n",
    "\n",
    "# Determine the youngest\n",
    "if ram_age < shyam_age and ram_age < ajay_age:\n",
    "    print(\"Ram is the youngest.\")\n",
    "elif shyam_age < ram_age and shyam_age < ajay_age:\n",
    "    print(\"Shyam is the youngest.\")\n",
    "elif ajay_age < ram_age and ajay_age < shyam_age:\n",
    "    print(\"Ajay is the youngest.\")\n",
    "else:\n",
    "    print(\"There is a tie in ages.\")\n"
   ]
  },
  {
   "cell_type": "code",
   "execution_count": null,
   "id": "4d9d5659-64e6-435b-85eb-625f7420fea2",
   "metadata": {},
   "outputs": [],
   "source": [
    "11. Write a program to check whether a triangle is valid or not, when the three angles of \n",
    "the triangle are entered through the keyboard. A triangle is valid if the sum of all the three \n",
    "angles is equal to 180 degrees. "
   ]
  },
  {
   "cell_type": "code",
   "execution_count": 9,
   "id": "7d4a3786-add8-4577-a86f-596d2b91b8e3",
   "metadata": {},
   "outputs": [
    {
     "name": "stdin",
     "output_type": "stream",
     "text": [
      "Enter first angle:  60\n",
      "Enter second angle:  60\n",
      "Enter third angle:  60\n"
     ]
    },
    {
     "name": "stdout",
     "output_type": "stream",
     "text": [
      "The triangle is valid.\n"
     ]
    }
   ],
   "source": [
    "# Input the three angles of a triangle\n",
    "angle1 = float(input(\"Enter first angle: \"))\n",
    "angle2 = float(input(\"Enter second angle: \"))\n",
    "angle3 = float(input(\"Enter third angle: \"))\n",
    "\n",
    "# Calculate the sum of the angles\n",
    "sum_of_angles = angle1 + angle2 + angle3\n",
    "\n",
    "# Check if the triangle is valid\n",
    "if sum_of_angles == 180 and angle1 > 0 and angle2 > 0 and angle3 > 0:\n",
    "    print(\"The triangle is valid.\")\n",
    "else:\n",
    "    print(\"The triangle is not valid.\")\n"
   ]
  },
  {
   "cell_type": "code",
   "execution_count": null,
   "id": "8e74a59c-76c4-40dc-ac47-46c762018ea4",
   "metadata": {},
   "outputs": [],
   "source": [
    "12. Find the absolute value of a number entered through the keyboard."
   ]
  },
  {
   "cell_type": "code",
   "execution_count": 11,
   "id": "b730b25a-7011-4e6c-94b9-37bff76c1a79",
   "metadata": {},
   "outputs": [
    {
     "name": "stdin",
     "output_type": "stream",
     "text": [
      "Enter a number:  45.7\n"
     ]
    },
    {
     "name": "stdout",
     "output_type": "stream",
     "text": [
      "The absolute value of 45.7 is 45.7\n"
     ]
    }
   ],
   "source": [
    "# Input a number from the user\n",
    "num = float(input(\"Enter a number: \"))\n",
    "\n",
    "# Find absolute value\n",
    "absolute_value = abs(num)\n",
    "\n",
    "# Display the result\n",
    "print(f\"The absolute value of {num} is {absolute_value}\")\n"
   ]
  },
  {
   "cell_type": "code",
   "execution_count": null,
   "id": "5c3c089b-6a26-406a-ac5f-491a67ae6afd",
   "metadata": {},
   "outputs": [],
   "source": [
    "13. Given the length and breadth of a rectangle, write a program to find whether the area \n",
    "of the rectangle is greater than its perimeter. For example, the area of the rectangle with \n",
    "length = 5 and breadth = 4 is greater than its perimeter"
   ]
  },
  {
   "cell_type": "code",
   "execution_count": 13,
   "id": "14514945-b3ca-4afe-9ae8-319d952b6dc1",
   "metadata": {},
   "outputs": [
    {
     "name": "stdin",
     "output_type": "stream",
     "text": [
      "Enter the length of the rectangle:  5\n",
      "Enter the breadth of the rectangle:  4\n"
     ]
    },
    {
     "name": "stdout",
     "output_type": "stream",
     "text": [
      "Area = 20.0\n",
      "Perimeter = 18.0\n",
      "The area is greater than the perimeter.\n"
     ]
    }
   ],
   "source": [
    "# Input length and breadth of the rectangle\n",
    "length = float(input(\"Enter the length of the rectangle: \"))\n",
    "breadth = float(input(\"Enter the breadth of the rectangle: \"))\n",
    "\n",
    "# Calculate area and perimeter\n",
    "area = length * breadth\n",
    "perimeter = 2 * (length + breadth)\n",
    "\n",
    "# Display area and perimeter\n",
    "print(f\"Area = {area}\")\n",
    "print(f\"Perimeter = {perimeter}\")\n",
    "\n",
    "# Compare and display result\n",
    "if area > perimeter:\n",
    "    print(\"The area is greater than the perimeter.\")\n",
    "elif area < perimeter:\n",
    "    print(\"The perimeter is greater than the area.\")\n",
    "else:\n",
    "    print(\"The area and perimeter are equal.\")\n"
   ]
  },
  {
   "cell_type": "code",
   "execution_count": null,
   "id": "20e63a8d-0870-44ab-9abf-0049beec81b1",
   "metadata": {},
   "outputs": [],
   "source": [
    "14. Any year is entered through the keyboard, write a program to determine whether the \n",
    "year is leap or not. Use the logical operators && and ||."
   ]
  },
  {
   "cell_type": "code",
   "execution_count": 15,
   "id": "a34b11ac-c24b-4867-97b3-20ebffc27f0c",
   "metadata": {},
   "outputs": [
    {
     "name": "stdin",
     "output_type": "stream",
     "text": [
      "Enter a year:  2024\n"
     ]
    },
    {
     "name": "stdout",
     "output_type": "stream",
     "text": [
      "2024 is a leap year.\n"
     ]
    }
   ],
   "source": [
    "# Input the year\n",
    "year = int(input(\"Enter a year: \"))\n",
    "\n",
    "# Check leap year using logical operators\n",
    "if (year % 400 == 0) or (year % 4 == 0 and year % 100 != 0):\n",
    "    print(f\"{year} is a leap year.\")\n",
    "else:\n",
    "    print(f\"{year} is not a leap year.\")\n"
   ]
  },
  {
   "cell_type": "code",
   "execution_count": null,
   "id": "46d27be6-d562-410f-a23e-e9c2c475f950",
   "metadata": {},
   "outputs": [],
   "source": [
    "15. A certain grade of steel is graded according to the following conditions: \n",
    "i. Hardness must be greater than 50 \n",
    "ii. Carbon content must be less than 0.7 \n",
    "iii. Tensile strength must be greater than 5600 \n",
    "The grades are as follows: \n",
    "i. Grade is 10 if all three conditions are met \n",
    "ii. Grade is 9 if conditions (i) and (ii) are met \n",
    "iii. Grade is 8 if conditions (ii) and (iii) are met \n",
    "iv. Grade is 7 if conditions (i) and (iii) are met \n",
    "v. Grade is 6 if only one condition is met \n",
    "vi. Grade is 5 if none of the conditions are met \n",
    "Write a program, which will require the user to give values of hardness, carbon content and \n",
    "tensile strength of the steel under consideration and output the grade of the stee"
   ]
  },
  {
   "cell_type": "code",
   "execution_count": 17,
   "id": "aa67240b-06e3-470c-a1c3-8a770f3d6447",
   "metadata": {},
   "outputs": [
    {
     "name": "stdin",
     "output_type": "stream",
     "text": [
      "Enter hardness:  55\n",
      "Enter carbon content:  0.6\n",
      "Enter tensile strength:  5700\n"
     ]
    },
    {
     "name": "stdout",
     "output_type": "stream",
     "text": [
      "The grade of the steel is: 10\n"
     ]
    }
   ],
   "source": [
    "# Input values\n",
    "hardness = float(input(\"Enter hardness: \"))\n",
    "carbon_content = float(input(\"Enter carbon content: \"))\n",
    "tensile_strength = float(input(\"Enter tensile strength: \"))\n",
    "\n",
    "# Check each condition\n",
    "cond1 = hardness > 50\n",
    "cond2 = carbon_content < 0.7\n",
    "cond3 = tensile_strength > 5600\n",
    "\n",
    "# Determine the grade based on conditions met\n",
    "if cond1 and cond2 and cond3:\n",
    "    grade = 10\n",
    "elif cond1 and cond2:\n",
    "    grade = 9\n",
    "elif cond2 and cond3:\n",
    "    grade = 8\n",
    "elif cond1 and cond3:\n",
    "    grade = 7\n",
    "elif cond1 or cond2 or cond3:\n",
    "    grade = 6\n",
    "else:\n",
    "    grade = 5\n",
    "\n",
    "# Output the grade\n",
    "print(f\"The grade of the steel is: {grade}\")\n"
   ]
  },
  {
   "cell_type": "code",
   "execution_count": null,
   "id": "5cdfa979-94f3-42fc-ac28-1f76123c17ba",
   "metadata": {},
   "outputs": [],
   "source": [
    "16. A library charges a fine for every book returned late. For first 5 days the fine is 50 \n",
    "paise, for 6-10 days fine is one rupee and above 10 days fine is 5 rupees. If you return the \n",
    "book after 30 days your membership will be cancelled. Write a program to accept the \n",
    "number of days the member is late to return the book and display the fine or the \n",
    "appropriate message."
   ]
  },
  {
   "cell_type": "code",
   "execution_count": 19,
   "id": "a3643c91-183f-4bd7-8d94-dbc23ba28700",
   "metadata": {},
   "outputs": [
    {
     "name": "stdin",
     "output_type": "stream",
     "text": [
      "Enter the number of days late:  7\n"
     ]
    },
    {
     "name": "stdout",
     "output_type": "stream",
     "text": [
      "Fine is Rs. 7.00\n"
     ]
    }
   ],
   "source": [
    "# Input number of days late\n",
    "days_late = int(input(\"Enter the number of days late: \"))\n",
    "\n",
    "# Calculate fine or display membership cancellation\n",
    "if days_late > 30:7\n",
    "    print(\"Membership cancelled due to late return.\")\n",
    "elif 1 <= days_late <= 5:\n",
    "    fine = days_late * 0.50  # 50 paise = 0.50 rupees per day\n",
    "    print(f\"Fine is Rs. {fine:.2f}\")\n",
    "elif 6 <= days_late <= 10:\n",
    "    fine = days_late * 1  # 1 rupee per day\n",
    "    print(f\"Fine is Rs. {fine:.2f}\")\n",
    "elif 11 <= days_late <= 30:\n",
    "    fine = days_late * 5  # 5 rupees per day\n",
    "    print(f\"Fine is Rs. {fine:.2f}\")\n",
    "else:\n",
    "    print(\"No fine, book returned on time.\")\n"
   ]
  },
  {
   "cell_type": "code",
   "execution_count": null,
   "id": "b00237a2-63b6-4361-b984-e8bf66749d20",
   "metadata": {},
   "outputs": [],
   "source": [
    "17. In a company, worker efficiency is determined on the basis of the time required for a \n",
    "worker to complete a particular job. If the time taken by the worker is between 2 – 3 \n",
    "hours, then the worker is said to be highly efficient. If the time required by the worker is \n",
    "between 3 – 4 hours, then the worker is ordered to improve speed. If the time taken is \n",
    "between 4 – 5 hours, the worker is given training to improve his speed, and if the time \n",
    "taken by the worker is more than 5 hours, then the worker has to leave the company. If the \n",
    "time taken by the worker is input through the keyboard, find the efficiency of the worker. "
   ]
  },
  {
   "cell_type": "code",
   "execution_count": 21,
   "id": "25b5226c-e087-4aaa-9d95-7e67e7555069",
   "metadata": {},
   "outputs": [
    {
     "name": "stdin",
     "output_type": "stream",
     "text": [
      "Enter the time taken by the worker (in hours):  3.5\n"
     ]
    },
    {
     "name": "stdout",
     "output_type": "stream",
     "text": [
      "The worker is ordered to improve speed.\n"
     ]
    }
   ],
   "source": [
    "# Input the time taken by the worker\n",
    "time_taken = float(input(\"Enter the time taken by the worker (in hours): \"))\n",
    "\n",
    "# Determine efficiency based on time taken\n",
    "if 2 <= time_taken < 3:\n",
    "    print(\"The worker is highly efficient.\")\n",
    "elif 3 <= time_taken < 4:\n",
    "    print(\"The worker is ordered to improve speed.\")\n",
    "elif 4 <= time_taken <= 5:\n",
    "    print(\"The worker is given training to improve speed.\")\n",
    "elif time_taken > 5:\n",
    "    print(\"The worker has to leave the company.\")\n",
    "else:\n",
    "    print(\"Invalid time entered or time less than 2 hours.\")\n"
   ]
  }
 ],
 "metadata": {
  "kernelspec": {
   "display_name": "Python [conda env:base] *",
   "language": "python",
   "name": "conda-base-py"
  },
  "language_info": {
   "codemirror_mode": {
    "name": "ipython",
    "version": 3
   },
   "file_extension": ".py",
   "mimetype": "text/x-python",
   "name": "python",
   "nbconvert_exporter": "python",
   "pygments_lexer": "ipython3",
   "version": "3.12.7"
  }
 },
 "nbformat": 4,
 "nbformat_minor": 5
}
